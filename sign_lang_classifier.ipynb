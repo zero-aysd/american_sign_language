{
 "cells": [
  {
   "cell_type": "code",
   "execution_count": 221,
   "id": "defensive-height",
   "metadata": {},
   "outputs": [],
   "source": [
    "# preprocessing images\n",
    "\n",
    "import os, random, cv2\n",
    "import numpy as np\n",
    "import imutils.paths as paths\n",
    "import pandas as pd\n",
    "import torch\n",
    "from torch.utils.data import Dataset, DataLoader\n",
    "from torchvision import transforms, utils\n",
    "from PIL import Image\n",
    "from torch import nn\n",
    "import torch.optim as optim\n",
    "import time\n"
   ]
  },
  {
   "cell_type": "code",
   "execution_count": 245,
   "id": "turkish-conducting",
   "metadata": {},
   "outputs": [],
   "source": [
    "%config Completer.use_jedi = False\n",
    "\n"
   ]
  },
  {
   "cell_type": "code",
   "execution_count": 229,
   "id": "quiet-calendar",
   "metadata": {},
   "outputs": [
    {
     "name": "stdout",
     "output_type": "stream",
     "text": [
      "Requirement already satisfied: tensorboard in /home/nayugartx8/Desktop/Aayush_work/work/lib/python3.6/site-packages (1.15.0)\n",
      "Requirement already satisfied: grpcio>=1.6.3 in /home/nayugartx8/.local/lib/python3.6/site-packages (from tensorboard) (1.34.0)\n",
      "Requirement already satisfied: wheel>=0.26 in /home/nayugartx8/Desktop/Aayush_work/work/lib/python3.6/site-packages (from tensorboard) (0.36.2)\n",
      "Requirement already satisfied: protobuf>=3.6.0 in /home/nayugartx8/.local/lib/python3.6/site-packages (from tensorboard) (3.14.0)\n",
      "Requirement already satisfied: numpy>=1.12.0 in /home/nayugartx8/Desktop/Aayush_work/work/lib/python3.6/site-packages (from tensorboard) (1.19.5)\n",
      "Requirement already satisfied: werkzeug>=0.11.15 in /home/nayugartx8/.local/lib/python3.6/site-packages (from tensorboard) (1.0.1)\n",
      "Requirement already satisfied: absl-py>=0.4 in /home/nayugartx8/.local/lib/python3.6/site-packages (from tensorboard) (0.11.0)\n",
      "Requirement already satisfied: markdown>=2.6.8 in /home/nayugartx8/.local/lib/python3.6/site-packages (from tensorboard) (3.3.3)\n",
      "Requirement already satisfied: six>=1.10.0 in /home/nayugartx8/Desktop/Aayush_work/work/lib/python3.6/site-packages (from tensorboard) (1.15.0)\n",
      "Requirement already satisfied: setuptools>=41.0.0 in /home/nayugartx8/Desktop/Aayush_work/work/lib/python3.6/site-packages (from tensorboard) (54.1.2)\n",
      "Requirement already satisfied: importlib-metadata in /home/nayugartx8/Desktop/Aayush_work/work/lib/python3.6/site-packages (from markdown>=2.6.8->tensorboard) (3.7.3)\n",
      "Requirement already satisfied: typing-extensions>=3.6.4 in /home/nayugartx8/Desktop/Aayush_work/work/lib/python3.6/site-packages (from importlib-metadata->markdown>=2.6.8->tensorboard) (3.7.4.3)\n",
      "Requirement already satisfied: zipp>=0.5 in /home/nayugartx8/Desktop/Aayush_work/work/lib/python3.6/site-packages (from importlib-metadata->markdown>=2.6.8->tensorboard) (3.4.1)\n"
     ]
    }
   ],
   "source": [
    "%%bash \n",
    "pip3 install tensorboard\n"
   ]
  },
  {
   "cell_type": "code",
   "execution_count": 2,
   "id": "virgin-tender",
   "metadata": {},
   "outputs": [],
   "source": [
    "num_images = 1200"
   ]
  },
  {
   "cell_type": "code",
   "execution_count": 3,
   "id": "medical-local",
   "metadata": {},
   "outputs": [
    {
     "name": "stdout",
     "output_type": "stream",
     "text": [
      "['A', 'B', 'C', 'D', 'E', 'F', 'G', 'H', 'I', 'J', 'K', 'L', 'M', 'N', 'O', 'P', 'Q', 'R', 'S', 'T', 'U', 'V', 'W', 'X', 'Y', 'Z', 'del', 'nothing', 'space']\n"
     ]
    }
   ],
   "source": [
    "dir_paths = os.listdir('./Train')\n",
    "dir_paths.sort()\n",
    "print(dir_paths)\n",
    "\n",
    "root_path = './Train'"
   ]
  },
  {
   "cell_type": "code",
   "execution_count": 4,
   "id": "burning-python",
   "metadata": {},
   "outputs": [
    {
     "name": "stderr",
     "output_type": "stream",
     "text": [
      "100%|██████████| 29/29 [01:44<00:00,  3.60s/it]\n"
     ]
    }
   ],
   "source": [
    "from tqdm import tqdm\n",
    "\n",
    "\n",
    "for idx, dir_path in tqdm(enumerate(dir_paths), total=len(dir_paths)):\n",
    "    all_images = os.listdir(f'{root_path}/{dir_path}')\n",
    "    os.makedirs(f\"./preprocessed_image/{dir_path}\", exist_ok=True)\n",
    "    for i in range(num_images):\n",
    "        rand_id = random.randint(0, 2999)\n",
    "        image = cv2.imread(f'{root_path}/{dir_path}/{all_images[rand_id]}')\n",
    "        image = cv2.resize(image, (244, 244))\n",
    "        cv2.imwrite(f\"./preprocessed_image/{dir_path}/{dir_path}{i}.jpg\", image)"
   ]
  },
  {
   "cell_type": "code",
   "execution_count": 68,
   "id": "descending-announcement",
   "metadata": {
    "scrolled": true
   },
   "outputs": [
    {
     "name": "stderr",
     "output_type": "stream",
     "text": [
      "100%|██████████| 87000/87000 [03:42<00:00, 391.46it/s] \n"
     ]
    }
   ],
   "source": [
    "# building data.csv containing image_paths and its labels\n",
    "\n",
    "image_paths = list(paths.list_images('./Train'))\n",
    "# print(image_paths)\n",
    "data = pd.DataFrame()\n",
    "\n",
    "labels = []\n",
    "\n",
    "for i, image_path in tqdm(enumerate(image_paths), total =len(image_paths)):\n",
    "    label = image_path.split(os.path.sep)[-2]\n",
    "    data.loc[i, 'image_path'] = image_path\n",
    "    \n",
    "    labels.append(label)\n",
    "\n",
    "labels = np.array(labels)\n",
    "\n",
    "from sklearn.preprocessing import LabelBinarizer\n",
    "\n",
    "\n",
    "# Mapping the first one hot encoded label to its category\n",
    "lb = LabelBinarizer()\n",
    "labels = lb.fit_transform(labels)\n",
    "\n",
    "for i in range(len(labels)):\n",
    "    index = np.argmax(labels[i])\n",
    "    data.loc[i, 'target'] = int(index)\n",
    "\n",
    "data = data.sample(frac=1).reset_index(drop=True)\n",
    "# data.to_csv('../input/data.csv', index=False)\n",
    "\n",
    "\n",
    "\n",
    "    "
   ]
  },
  {
   "cell_type": "code",
   "execution_count": 69,
   "id": "peaceful-producer",
   "metadata": {},
   "outputs": [
    {
     "data": {
      "text/html": [
       "<div>\n",
       "<style scoped>\n",
       "    .dataframe tbody tr th:only-of-type {\n",
       "        vertical-align: middle;\n",
       "    }\n",
       "\n",
       "    .dataframe tbody tr th {\n",
       "        vertical-align: top;\n",
       "    }\n",
       "\n",
       "    .dataframe thead th {\n",
       "        text-align: right;\n",
       "    }\n",
       "</style>\n",
       "<table border=\"1\" class=\"dataframe\">\n",
       "  <thead>\n",
       "    <tr style=\"text-align: right;\">\n",
       "      <th></th>\n",
       "      <th>image_path</th>\n",
       "      <th>target</th>\n",
       "    </tr>\n",
       "  </thead>\n",
       "  <tbody>\n",
       "    <tr>\n",
       "      <th>0</th>\n",
       "      <td>./Train/O/O2592.jpg</td>\n",
       "      <td>14.0</td>\n",
       "    </tr>\n",
       "    <tr>\n",
       "      <th>1</th>\n",
       "      <td>./Train/X/X2852.jpg</td>\n",
       "      <td>23.0</td>\n",
       "    </tr>\n",
       "    <tr>\n",
       "      <th>2</th>\n",
       "      <td>./Train/space/space2387.jpg</td>\n",
       "      <td>28.0</td>\n",
       "    </tr>\n",
       "    <tr>\n",
       "      <th>3</th>\n",
       "      <td>./Train/B/B2914.jpg</td>\n",
       "      <td>1.0</td>\n",
       "    </tr>\n",
       "    <tr>\n",
       "      <th>4</th>\n",
       "      <td>./Train/A/A701.jpg</td>\n",
       "      <td>0.0</td>\n",
       "    </tr>\n",
       "  </tbody>\n",
       "</table>\n",
       "</div>"
      ],
      "text/plain": [
       "                    image_path  target\n",
       "0          ./Train/O/O2592.jpg    14.0\n",
       "1          ./Train/X/X2852.jpg    23.0\n",
       "2  ./Train/space/space2387.jpg    28.0\n",
       "3          ./Train/B/B2914.jpg     1.0\n",
       "4           ./Train/A/A701.jpg     0.0"
      ]
     },
     "execution_count": 69,
     "metadata": {},
     "output_type": "execute_result"
    }
   ],
   "source": [
    "data.head()"
   ]
  },
  {
   "cell_type": "code",
   "execution_count": 70,
   "id": "retained-modem",
   "metadata": {},
   "outputs": [
    {
     "data": {
      "text/plain": [
       "29"
      ]
     },
     "execution_count": 70,
     "metadata": {},
     "output_type": "execute_result"
    }
   ],
   "source": [
    "data.target.nunique()"
   ]
  },
  {
   "cell_type": "code",
   "execution_count": 130,
   "id": "ahead-gibraltar",
   "metadata": {},
   "outputs": [],
   "source": [
    "from sklearn.model_selection import train_test_split\n",
    "import matplotlib.pyplot as plt\n",
    "\n",
    "\n",
    "\n",
    "train_set, test_set = train_test_split(data, test_size=0.2,random_state=42)\n",
    "train_set.to_csv('./train_set.csv', index=False)\n",
    "test_set.to_csv('./test_set.csv', index=False)"
   ]
  },
  {
   "cell_type": "code",
   "execution_count": 131,
   "id": "legislative-discount",
   "metadata": {
    "scrolled": true
   },
   "outputs": [
    {
     "data": {
      "text/html": [
       "<div>\n",
       "<style scoped>\n",
       "    .dataframe tbody tr th:only-of-type {\n",
       "        vertical-align: middle;\n",
       "    }\n",
       "\n",
       "    .dataframe tbody tr th {\n",
       "        vertical-align: top;\n",
       "    }\n",
       "\n",
       "    .dataframe thead th {\n",
       "        text-align: right;\n",
       "    }\n",
       "</style>\n",
       "<table border=\"1\" class=\"dataframe\">\n",
       "  <thead>\n",
       "    <tr style=\"text-align: right;\">\n",
       "      <th></th>\n",
       "      <th>Class</th>\n",
       "      <th>Samples</th>\n",
       "    </tr>\n",
       "  </thead>\n",
       "  <tbody>\n",
       "    <tr>\n",
       "      <th>0</th>\n",
       "      <td>12.0</td>\n",
       "      <td>2449</td>\n",
       "    </tr>\n",
       "    <tr>\n",
       "      <th>1</th>\n",
       "      <td>18.0</td>\n",
       "      <td>2440</td>\n",
       "    </tr>\n",
       "    <tr>\n",
       "      <th>2</th>\n",
       "      <td>23.0</td>\n",
       "      <td>2440</td>\n",
       "    </tr>\n",
       "    <tr>\n",
       "      <th>3</th>\n",
       "      <td>21.0</td>\n",
       "      <td>2425</td>\n",
       "    </tr>\n",
       "    <tr>\n",
       "      <th>4</th>\n",
       "      <td>0.0</td>\n",
       "      <td>2411</td>\n",
       "    </tr>\n",
       "  </tbody>\n",
       "</table>\n",
       "</div>"
      ],
      "text/plain": [
       "   Class  Samples\n",
       "0   12.0     2449\n",
       "1   18.0     2440\n",
       "2   23.0     2440\n",
       "3   21.0     2425\n",
       "4    0.0     2411"
      ]
     },
     "execution_count": 131,
     "metadata": {},
     "output_type": "execute_result"
    }
   ],
   "source": [
    "df_train = pd.DataFrame(train_set.target.value_counts()).reset_index()\n",
    "df_train.columns = ['Class', 'Samples']\n",
    "# df_train.Samples = (df_train.Samples - df_train.Samples.min()) / (df_train.Samples.max() - df_train.Samples.min())\n",
    "df_train.head()"
   ]
  },
  {
   "cell_type": "markdown",
   "id": "tender-aaron",
   "metadata": {},
   "source": [
    "### Plot of distribution(train and test)"
   ]
  },
  {
   "cell_type": "code",
   "execution_count": 132,
   "id": "perceived-indianapolis",
   "metadata": {},
   "outputs": [
    {
     "name": "stderr",
     "output_type": "stream",
     "text": [
      "/home/nayugartx8/Desktop/Aayush_work/work/lib/python3.6/site-packages/seaborn/_decorators.py:43: FutureWarning: Pass the following variables as keyword args: x, y. From version 0.12, the only valid positional argument will be `data`, and passing other arguments without an explicit keyword will result in an error or misinterpretation.\n",
      "  FutureWarning\n"
     ]
    },
    {
     "data": {
      "text/plain": [
       "<AxesSubplot:xlabel='Class', ylabel='Samples'>"
      ]
     },
     "execution_count": 132,
     "metadata": {},
     "output_type": "execute_result"
    },
    {
     "data": {
      "image/png": "[encoded data removed]",
      "text/plain": [
       "<Figure size 1080x648 with 1 Axes>"
      ]
     },
     "metadata": {
      "needs_background": "light"
     },
     "output_type": "display_data"
    }
   ],
   "source": [
    "import seaborn as sns\n",
    "\n",
    "plt.figure(figsize=(15, 9))\n",
    "sns.barplot(df_train.Class, df_train.Samples, color='gray')\n",
    "\n"
   ]
  },
  {
   "cell_type": "code",
   "execution_count": 133,
   "id": "advance-country",
   "metadata": {},
   "outputs": [
    {
     "data": {
      "text/html": [
       "<div>\n",
       "<style scoped>\n",
       "    .dataframe tbody tr th:only-of-type {\n",
       "        vertical-align: middle;\n",
       "    }\n",
       "\n",
       "    .dataframe tbody tr th {\n",
       "        vertical-align: top;\n",
       "    }\n",
       "\n",
       "    .dataframe thead th {\n",
       "        text-align: right;\n",
       "    }\n",
       "</style>\n",
       "<table border=\"1\" class=\"dataframe\">\n",
       "  <thead>\n",
       "    <tr style=\"text-align: right;\">\n",
       "      <th></th>\n",
       "      <th>Class</th>\n",
       "      <th>Samples</th>\n",
       "    </tr>\n",
       "  </thead>\n",
       "  <tbody>\n",
       "    <tr>\n",
       "      <th>0</th>\n",
       "      <td>4.0</td>\n",
       "      <td>635</td>\n",
       "    </tr>\n",
       "    <tr>\n",
       "      <th>1</th>\n",
       "      <td>9.0</td>\n",
       "      <td>632</td>\n",
       "    </tr>\n",
       "    <tr>\n",
       "      <th>2</th>\n",
       "      <td>8.0</td>\n",
       "      <td>630</td>\n",
       "    </tr>\n",
       "    <tr>\n",
       "      <th>3</th>\n",
       "      <td>5.0</td>\n",
       "      <td>628</td>\n",
       "    </tr>\n",
       "    <tr>\n",
       "      <th>4</th>\n",
       "      <td>10.0</td>\n",
       "      <td>624</td>\n",
       "    </tr>\n",
       "  </tbody>\n",
       "</table>\n",
       "</div>"
      ],
      "text/plain": [
       "   Class  Samples\n",
       "0    4.0      635\n",
       "1    9.0      632\n",
       "2    8.0      630\n",
       "3    5.0      628\n",
       "4   10.0      624"
      ]
     },
     "execution_count": 133,
     "metadata": {},
     "output_type": "execute_result"
    }
   ],
   "source": [
    "df_test = pd.DataFrame(test_set.target.value_counts()).reset_index()\n",
    "df_test.columns = ['Class', 'Samples']\n",
    "# df_test.Samples = (df_test.Samples - df_test.Samples.min()) / (df_test.Samples.max() - df_test.Samples.min())\n",
    "df_test.head()"
   ]
  },
  {
   "cell_type": "code",
   "execution_count": 134,
   "id": "established-eligibility",
   "metadata": {},
   "outputs": [
    {
     "name": "stderr",
     "output_type": "stream",
     "text": [
      "/home/nayugartx8/Desktop/Aayush_work/work/lib/python3.6/site-packages/seaborn/_decorators.py:43: FutureWarning: Pass the following variables as keyword args: x, y. From version 0.12, the only valid positional argument will be `data`, and passing other arguments without an explicit keyword will result in an error or misinterpretation.\n",
      "  FutureWarning\n"
     ]
    },
    {
     "data": {
      "text/plain": [
       "<AxesSubplot:xlabel='Class', ylabel='Samples'>"
      ]
     },
     "execution_count": 134,
     "metadata": {},
     "output_type": "execute_result"
    },
    {
     "data": {
      "image/png": "[encoded data removed]",
      "text/plain": [
       "<Figure size 1080x648 with 1 Axes>"
      ]
     },
     "metadata": {
      "needs_background": "light"
     },
     "output_type": "display_data"
    }
   ],
   "source": [
    "plt.figure(figsize=(15, 9))\n",
    "sns.barplot(df_test.Class, df_test.Samples, color='gray')"
   ]
  },
  {
   "cell_type": "code",
   "execution_count": 135,
   "id": "outstanding-press",
   "metadata": {},
   "outputs": [],
   "source": [
    "data.to_csv('./data.csv', index=False)"
   ]
  },
  {
   "cell_type": "code",
   "execution_count": 399,
   "id": "hispanic-treasury",
   "metadata": {},
   "outputs": [
    {
     "data": {
      "text/plain": [
       "2"
      ]
     },
     "execution_count": 399,
     "metadata": {},
     "output_type": "execute_result"
    }
   ],
   "source": [
    "len(data)"
   ]
  },
  {
   "cell_type": "code",
   "execution_count": 415,
   "id": "eligible-sugar",
   "metadata": {},
   "outputs": [],
   "source": [
    "class ASL_dataset(Dataset):\n",
    "    \n",
    "    def __init__(self, csv_path, train=True):\n",
    "\n",
    "        self.csv_file = pd.read_csv(csv_path)\n",
    "        self.train = train\n",
    "        if self.train:\n",
    "            self.transform = transforms.Compose([\n",
    "            transforms.Resize(256),\n",
    "            transforms.RandomCrop(224),\n",
    "            transforms.RandomHorizontalFlip(),\n",
    "            transforms.ToTensor(),\n",
    "            transforms.Normalize(mean=[0.485, 0.456, 0.406],\n",
    "                                std=[0.229, 0.224, 0.225]),\n",
    "            ])\n",
    "        else:\n",
    "            self.transform = transforms.Compose([\n",
    "            transforms.Resize(256),\n",
    "            transforms.ToTensor(),\n",
    "            transforms.Normalize(mean=[0.485, 0.456, 0.406],\n",
    "                                std=[0.229, 0.224, 0.225]),\n",
    "            ])\n",
    "        \n",
    "    def __len__(self):\n",
    "        return len(self.csv_file)\n",
    "    \n",
    "    def __getitem__(self, idx):\n",
    "        if torch.is_tensor(idx):\n",
    "            idx = idx.to_list()\n",
    "        image_name = os.path.join(self.csv_file.iloc[idx, 0])\n",
    "#         print(image_name)\n",
    "        image = Image.open(image_name)\n",
    "        \n",
    "        labels = np.array(self.csv_file.iloc[idx, 1:]).astype(np.float32)\n",
    "#         print(labels)\n",
    "        sample = {'image': image, 'labels': labels }\n",
    "        sample['image'] = self.transform(sample['image'])\n",
    "        sample['labels'] = torch.tensor(int(sample['labels'])).long()\n",
    "        return sample\n",
    "            \n",
    "        "
   ]
  },
  {
   "cell_type": "markdown",
   "id": "emerging-letter",
   "metadata": {},
   "source": [
    "\n",
    "### Plot some random samples"
   ]
  },
  {
   "cell_type": "code",
   "execution_count": 416,
   "id": "suited-genetics",
   "metadata": {},
   "outputs": [
    {
     "name": "stderr",
     "output_type": "stream",
     "text": [
      "Clipping input data to the valid range for imshow with RGB data ([0..1] for floats or [0..255] for integers).\n",
      "Clipping input data to the valid range for imshow with RGB data ([0..1] for floats or [0..255] for integers).\n",
      "Clipping input data to the valid range for imshow with RGB data ([0..1] for floats or [0..255] for integers).\n",
      "Clipping input data to the valid range for imshow with RGB data ([0..1] for floats or [0..255] for integers).\n"
     ]
    },
    {
     "name": "stdout",
     "output_type": "stream",
     "text": [
      "0 torch.Size([3, 224, 224]) torch.Size([])\n",
      "1 torch.Size([3, 224, 224]) torch.Size([])\n",
      "2 torch.Size([3, 224, 224]) torch.Size([])\n",
      "3 torch.Size([3, 224, 224]) torch.Size([])\n"
     ]
    },
    {
     "data": {
      "image/png": "[encoded data removed]",
      "text/plain": [
       "<Figure size 432x288 with 4 Axes>"
      ]
     },
     "metadata": {
      "needs_background": "light"
     },
     "output_type": "display_data"
    }
   ],
   "source": [
    "asl_dataset = ASL_dataset(csv_path='./data.csv')\n",
    "# print(len(asl_dataset))\n",
    "import matplotlib.pyplot as plt\n",
    "for i in range(len(asl_dataset)):\n",
    "    sample = asl_dataset[i]\n",
    "    print(i, sample['image'].shape, sample['labels'].shape)\n",
    "\n",
    "    ax = plt.subplot(1, 4, i + 1)\n",
    "    plt.tight_layout()\n",
    "    ax.set_title('Sample #{}'.format(i))\n",
    "    ax.axis('off')\n",
    "    plt.imshow(np.transpose(sample['image'].numpy(), (1, 2, 0)), interpolation='gaussian')\n",
    "\n",
    "    if i == 3:\n",
    "        plt.show()\n",
    "        break"
   ]
  },
  {
   "cell_type": "markdown",
   "id": "virtual-first",
   "metadata": {},
   "source": [
    "###  Model Creation"
   ]
  },
  {
   "cell_type": "code",
   "execution_count": 417,
   "id": "fancy-usage",
   "metadata": {},
   "outputs": [
    {
     "name": "stdout",
     "output_type": "stream",
     "text": [
      "Using cuda device\n"
     ]
    }
   ],
   "source": [
    "device = 'cuda' if torch.cuda.is_available() else 'cpu'\n",
    "print('Using {} device'.format(device))"
   ]
  },
  {
   "cell_type": "code",
   "execution_count": 418,
   "id": "binary-airline",
   "metadata": {},
   "outputs": [],
   "source": [
    "# Defining model\n",
    "\n",
    "\n",
    "\n",
    "class SignLanguageClassifier(nn.Module):\n",
    "    \n",
    "    def __init__(self):\n",
    "        super(SignLanguageClassifier, self).__init__()\n",
    "        self.conv1 = nn.Conv2d(3, 16, 3)\n",
    "        self.conv2 = nn.Conv2d(16, 32, 5)\n",
    "        self.conv3 = nn.Conv2d(32, 64, 5)\n",
    "        self.conv4 = nn.Conv2d(64, 128, 3)\n",
    "        \n",
    "        self.fc1 = nn.Linear(128, 96)\n",
    "        self.fc2 = nn.Linear(96, 64)\n",
    "        self.fc3 = nn.Linear(64,len(lb.classes_))\n",
    "        \n",
    "        self.drop = nn.Dropout(0.25)\n",
    "        \n",
    "#         self.bn1 = nn.BatchNorm2d(3, 16, 3)\n",
    "        self.bn2 = nn.BatchNorm2d(32)\n",
    "        self.bn3 = nn.BatchNorm2d(64)\n",
    "        self.bn4 = nn.BatchNorm2d(128)\n",
    "        \n",
    "        self.pool = nn.MaxPool2d(2,2)\n",
    "        \n",
    "    def forward(self, x):\n",
    "        # conv1\n",
    "        x = self.conv1(x)\n",
    "        x = self.pool(nn.functional.relu(x))\n",
    "        \n",
    "    \n",
    "        # conv2\n",
    "        x =self.conv2(x)\n",
    "        x = self.bn2(x)\n",
    "        x = self.pool(nn.functional.relu(x))\n",
    "        #conv3\n",
    "        x = self.bn3(self.conv3(x))\n",
    "        x = self.pool(nn.functional.relu(x))\n",
    "        #conv4 \n",
    "        x = self.bn4(self.conv4(x))\n",
    "        x = self.pool(nn.functional.relu(x))\n",
    "        \n",
    "        #fully connected layers\n",
    "        batch_size, _, _, _ = x.shape\n",
    "        \n",
    "        x = nn.functional.adaptive_avg_pool2d(x, 1).reshape(batch_size, -1)\n",
    "        x = self.drop(nn.functional.relu(self.fc1(x)))\n",
    "        x = nn.functional.relu(self.fc2(x))\n",
    "        x = self.fc3(x)\n",
    "        \n",
    "        return x\n",
    "    "
   ]
  },
  {
   "cell_type": "markdown",
   "id": "revised-insider",
   "metadata": {},
   "source": [
    "### Training Code"
   ]
  },
  {
   "cell_type": "code",
   "execution_count": 419,
   "id": "aggressive-insight",
   "metadata": {},
   "outputs": [],
   "source": [
    "# setting params\n",
    "epochs = 100\n",
    "\n",
    "# seeds\n",
    "np.random.seed(42)\n",
    "torch.manual_seed(42)\n",
    "torch.cuda.manual_seed(42)\n",
    "torch.cuda.manual_seed_all(42)\n",
    "torch.backends.cudnn.benchmark=True"
   ]
  },
  {
   "cell_type": "code",
   "execution_count": 420,
   "id": "backed-socket",
   "metadata": {},
   "outputs": [],
   "source": [
    "train_data = ASL_dataset('./train_set.csv')\n",
    "test_data = ASL_dataset('./test_set.csv', train=False)"
   ]
  },
  {
   "cell_type": "code",
   "execution_count": 421,
   "id": "african-imperial",
   "metadata": {},
   "outputs": [],
   "source": [
    "train_loader = DataLoader(train_data, batch_size=32, shuffle=True)\n",
    "test_loader = DataLoader(test_data, batch_size=32, shuffle=False)"
   ]
  },
  {
   "cell_type": "code",
   "execution_count": 422,
   "id": "silent-louisiana",
   "metadata": {},
   "outputs": [
    {
     "name": "stdout",
     "output_type": "stream",
     "text": [
      "SignLanguageClassifier(\n",
      "  (conv1): Conv2d(3, 16, kernel_size=(3, 3), stride=(1, 1))\n",
      "  (conv2): Conv2d(16, 32, kernel_size=(5, 5), stride=(1, 1))\n",
      "  (conv3): Conv2d(32, 64, kernel_size=(5, 5), stride=(1, 1))\n",
      "  (conv4): Conv2d(64, 128, kernel_size=(3, 3), stride=(1, 1))\n",
      "  (fc1): Linear(in_features=128, out_features=96, bias=True)\n",
      "  (fc2): Linear(in_features=96, out_features=64, bias=True)\n",
      "  (fc3): Linear(in_features=64, out_features=29, bias=True)\n",
      "  (drop): Dropout(p=0.25, inplace=False)\n",
      "  (bn2): BatchNorm2d(32, eps=1e-05, momentum=0.1, affine=True, track_running_stats=True)\n",
      "  (bn3): BatchNorm2d(64, eps=1e-05, momentum=0.1, affine=True, track_running_stats=True)\n",
      "  (bn4): BatchNorm2d(128, eps=1e-05, momentum=0.1, affine=True, track_running_stats=True)\n",
      "  (pool): MaxPool2d(kernel_size=2, stride=2, padding=0, dilation=1, ceil_mode=False)\n",
      ")\n"
     ]
    }
   ],
   "source": [
    "model = SignLanguageClassifier().to(device)\n",
    "print(model)"
   ]
  },
  {
   "cell_type": "code",
   "execution_count": 423,
   "id": "answering-fabric",
   "metadata": {},
   "outputs": [
    {
     "data": {
      "text/plain": [
       "tensor([[-0.0404,  0.0955, -0.0230, -0.0319,  0.1357,  0.0122, -0.0119,  0.0386,\n",
       "         -0.0904, -0.0250, -0.1059,  0.0076,  0.0648,  0.0277, -0.1195, -0.0690,\n",
       "         -0.0257,  0.0604, -0.1313,  0.1385,  0.1024,  0.0028, -0.0897, -0.0666,\n",
       "         -0.0087, -0.1171, -0.0341, -0.1289,  0.1199]], device='cuda:0',\n",
       "       grad_fn=<AddmmBackward>)"
      ]
     },
     "execution_count": 423,
     "metadata": {},
     "output_type": "execute_result"
    }
   ],
   "source": [
    "model.forward(torch.zeros((1, 3, 256, 256)).to(device))"
   ]
  },
  {
   "cell_type": "code",
   "execution_count": 424,
   "id": "everyday-lindsay",
   "metadata": {},
   "outputs": [
    {
     "name": "stdout",
     "output_type": "stream",
     "text": [
      "----------------------------------------------------------------\n",
      "        Layer (type)               Output Shape         Param #\n",
      "================================================================\n",
      "            Conv2d-1         [-1, 16, 254, 254]             448\n",
      "         MaxPool2d-2         [-1, 16, 127, 127]               0\n",
      "            Conv2d-3         [-1, 32, 123, 123]          12,832\n",
      "       BatchNorm2d-4         [-1, 32, 123, 123]              64\n",
      "         MaxPool2d-5           [-1, 32, 61, 61]               0\n",
      "            Conv2d-6           [-1, 64, 57, 57]          51,264\n",
      "       BatchNorm2d-7           [-1, 64, 57, 57]             128\n",
      "         MaxPool2d-8           [-1, 64, 28, 28]               0\n",
      "            Conv2d-9          [-1, 128, 26, 26]          73,856\n",
      "      BatchNorm2d-10          [-1, 128, 26, 26]             256\n",
      "        MaxPool2d-11          [-1, 128, 13, 13]               0\n",
      "           Linear-12                   [-1, 96]          12,384\n",
      "          Dropout-13                   [-1, 96]               0\n",
      "           Linear-14                   [-1, 64]           6,208\n",
      "           Linear-15                   [-1, 29]           1,885\n",
      "================================================================\n",
      "Total params: 159,325\n",
      "Trainable params: 159,325\n",
      "Non-trainable params: 0\n",
      "----------------------------------------------------------------\n",
      "Input size (MB): 0.75\n",
      "Forward/backward pass size (MB): 23.18\n",
      "Params size (MB): 0.61\n",
      "Estimated Total Size (MB): 24.54\n",
      "----------------------------------------------------------------\n"
     ]
    }
   ],
   "source": [
    "from torchsummary import summary\n",
    "\n",
    "summary(model, (3, 256, 256))"
   ]
  },
  {
   "cell_type": "code",
   "execution_count": 425,
   "id": "conventional-caution",
   "metadata": {},
   "outputs": [
    {
     "name": "stdout",
     "output_type": "stream",
     "text": [
      "159,325 total parameters.\n",
      "159,325 training parameters.\n"
     ]
    }
   ],
   "source": [
    "# total parameters and trainable parameters\n",
    "total_params = sum(p.numel() for p in model.parameters())\n",
    "print(f\"{total_params:,} total parameters.\")\n",
    "total_trainable_params = sum(\n",
    "    p.numel() for p in model.parameters() if p.requires_grad)\n",
    "print(f\"{total_trainable_params:,} training parameters.\")"
   ]
  },
  {
   "cell_type": "code",
   "execution_count": 426,
   "id": "impossible-marsh",
   "metadata": {},
   "outputs": [],
   "source": [
    "# Optimizer \n",
    "optimizer = optim.Adam(model.parameters(), lr=0.001)\n",
    "loss_fn = nn.CrossEntropyLoss()"
   ]
  },
  {
   "cell_type": "code",
   "execution_count": 427,
   "id": "continuing-might",
   "metadata": {},
   "outputs": [],
   "source": [
    "# checkpoints\n",
    "\n",
    "checkpoint_file_path = './checkpoint.ckpt'\n",
    "best_checkpoint = './best_checkpoint.ckpt'\n",
    "\n",
    " torch.save({\\\n",
    "                   'epoch': epoch,\n",
    "                   'model_state_dict' : model.state_dict(),\n",
    "                   'optimizer_state_dict' : optimizer.state_dict(),\n",
    "                   'validation_accuracy' : validation_accuracy,\n",
    "                    \"best_accuracy\" : best_accuracy\n",
    "                   }, CHECKPOINT_FILE \n"
   ]
  },
  {
   "cell_type": "code",
   "execution_count": 442,
   "id": "hungarian-population",
   "metadata": {
    "scrolled": true
   },
   "outputs": [
    {
     "name": "stderr",
     "output_type": "stream",
     "text": [
      "0it [02:32, ?it/s]       | 2/2175 [00:00<05:38,  6.41it/s]\n",
      "0it [02:32, ?it/s]\n",
      "Training: 100%|██████████| 2175/2175 [03:55<00:00,  9.23it/s]\n",
      "Training: 100%|██████████| 2175/2175 [03:35<00:00, 10.07it/s]\n",
      "Training: 100%|██████████| 2175/2175 [03:34<00:00, 10.15it/s]\n",
      "Training: 100%|██████████| 2175/2175 [03:54<00:00,  9.29it/s]\n",
      "Training: 100%|██████████| 2175/2175 [03:28<00:00, 10.44it/s]\n",
      "Training: 100%|██████████| 2175/2175 [03:28<00:00, 10.45it/s]\n",
      "Training: 100%|██████████| 2175/2175 [03:56<00:00,  9.19it/s]\n",
      "Training: 100%|██████████| 2175/2175 [03:28<00:00, 10.41it/s]\n",
      "Training: 100%|██████████| 2175/2175 [03:28<00:00, 10.45it/s]\n",
      "Training: 100%|██████████| 2175/2175 [03:39<00:00,  9.92it/s]"
     ]
    },
    {
     "name": "stdout",
     "output_type": "stream",
     "text": [
      "Finished Training\n"
     ]
    },
    {
     "name": "stderr",
     "output_type": "stream",
     "text": [
      "\n"
     ]
    }
   ],
   "source": [
    "# model training\n",
    "\n",
    "for epoch in range(10):  # loop over the dataset multiple times\n",
    "       \n",
    "    train_loss = 0.0\n",
    "   \n",
    "    running_loss = 0.0\n",
    "    for i, data in tqdm(enumerate(train_loader, 0), total = len(train_loader), desc = \"Training\"):\n",
    "     \n",
    "        inputs, labels = data['image'].to(device), data['labels'].to(device)\n",
    "        optimizer.zero_grad() # gradient set to zero\n",
    "     \n",
    "        # forward + backward + optimize\n",
    "        outputs = model(inputs)\n",
    "        loss = loss_fn(outputs, labels)\n",
    "        train_loss+= loss.item()\n",
    "        loss.backward()\n",
    "        optimizer.step()\n",
    "      \n",
    "        \n",
    "\n",
    "        # print statistics\n",
    "        running_loss += loss.item()\n",
    "\n",
    "print('Finished Training')"
   ]
  },
  {
   "cell_type": "code",
   "execution_count": 443,
   "id": "flush-consolidation",
   "metadata": {},
   "outputs": [],
   "source": [
    "torch.save(model, './Sign_Language_Classifier.pth')"
   ]
  },
  {
   "cell_type": "code",
   "execution_count": 444,
   "id": "toxic-latino",
   "metadata": {},
   "outputs": [
    {
     "name": "stderr",
     "output_type": "stream",
     "text": [
      "Testing: 100%|██████████| 544/544 [01:17<00:00,  7.06it/s]"
     ]
    },
    {
     "name": "stdout",
     "output_type": "stream",
     "text": [
      "Accuracy of the network on the test images: 39 %\n"
     ]
    },
    {
     "name": "stderr",
     "output_type": "stream",
     "text": [
      "\n"
     ]
    }
   ],
   "source": [
    "# testing_net\n",
    "\n",
    "correct = 0\n",
    "total = 0\n",
    "with torch.no_grad():\n",
    "    for i, data in tqdm(enumerate(test_loader, 0), total=len(test_loader), desc='Testing'):\n",
    "        inputs, labels = data['image'].to(device), data['labels'].to(device)\n",
    "        outputs = model(inputs)\n",
    "        _, predicted = torch.max(outputs.data, 1)\n",
    "        total += labels.size(0)\n",
    "        correct += (predicted == labels).sum().item()\n",
    "\n",
    "print('Accuracy of the network on the test images: %d %%' % (\n",
    "    100 * correct / total))\n"
   ]
  }
 ],
 "metadata": {
  "kernelspec": {
   "display_name": "Python 3",
   "language": "python",
   "name": "python3"
  },
  "language_info": {
   "codemirror_mode": {
    "name": "ipython",
    "version": 3
   },
   "file_extension": ".py",
   "mimetype": "text/x-python",
   "name": "python",
   "nbconvert_exporter": "python",
   "pygments_lexer": "ipython3",
   "version": "3.6.9"
  }
 },
 "nbformat": 4,
 "nbformat_minor": 5
}
