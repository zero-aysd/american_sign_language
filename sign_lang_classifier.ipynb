{
 "cells": [
  {
   "cell_type": "code",
   "execution_count": 114,
   "id": "defensive-height",
   "metadata": {},
   "outputs": [],
   "source": [
    "# preprocessing images\n",
    "\n",
    "import os, random, cv2\n",
    "import numpy as np\n",
    "import imutils.paths as paths\n",
    "import pandas as pd\n",
    "import torch\n",
    "from torch.utils.data import Dataset, DataLoader\n",
    "from torchvision import transforms, utils\n",
    "from PIL import Image\n",
    "from torch import nn\n",
    "import torch.optim as optim\n",
    "import time\n",
    "from tqdm import tqdm\n",
    "import matplotlib.pyplot as plt\n",
    "import copy\n",
    "from sklearn.metrics import accuracy_score\n"
   ]
  },
  {
   "cell_type": "code",
   "execution_count": 2,
   "id": "turkish-conducting",
   "metadata": {},
   "outputs": [],
   "source": [
    "%config Completer.use_jedi = False\n",
    "\n"
   ]
  },
  {
   "cell_type": "code",
   "execution_count": 2,
   "id": "virgin-tender",
   "metadata": {},
   "outputs": [],
   "source": [
    "num_images = 1200"
   ]
  },
  {
   "cell_type": "code",
   "execution_count": 3,
   "id": "medical-local",
   "metadata": {},
   "outputs": [
    {
     "name": "stdout",
     "output_type": "stream",
     "text": [
      "['A', 'B', 'C', 'D', 'E', 'F', 'G', 'H', 'I', 'J', 'K', 'L', 'M', 'N', 'O', 'P', 'Q', 'R', 'S', 'T', 'U', 'V', 'W', 'X', 'Y', 'Z', 'del', 'nothing', 'space']\n"
     ]
    }
   ],
   "source": [
    "dir_paths = os.listdir('./Train')\n",
    "dir_paths.sort()\n",
    "print(dir_paths)\n",
    "\n",
    "root_path = './Train'"
   ]
  },
  {
   "cell_type": "code",
   "execution_count": 5,
   "id": "burning-python",
   "metadata": {},
   "outputs": [],
   "source": [
    "\n",
    "\n",
    "\n",
    "# for idx, dir_path in tqdm(enumerate(dir_paths), total=len(dir_paths)):\n",
    "#     all_images = os.listdir(f'{root_path}/{dir_path}')\n",
    "#     os.makedirs(f\"./preprocessed_image/{dir_path}\", exist_ok=True)\n",
    "#     for i in range(num_images):\n",
    "#         rand_id = random.randint(0, 2999)\n",
    "#         image = cv2.imread(f'{root_path}/{dir_path}/{all_images[rand_id]}')\n",
    "#         image = cv2.resize(image, (244, 244))\n",
    "#         cv2.imwrite(f\"./preprocessed_image/{dir_path}/{dir_path}{i}.jpg\", image)"
   ]
  },
  {
   "cell_type": "code",
   "execution_count": 6,
   "id": "descending-announcement",
   "metadata": {
    "scrolled": true
   },
   "outputs": [
    {
     "name": "stderr",
     "output_type": "stream",
     "text": [
      "100%|██████████| 87000/87000 [03:31<00:00, 410.88it/s] \n"
     ]
    }
   ],
   "source": [
    "# building data.csv containing image_paths and its labels\n",
    "\n",
    "image_paths = list(paths.list_images('./Train'))\n",
    "# print(image_paths)\n",
    "data = pd.DataFrame()\n",
    "\n",
    "labels = []\n",
    "\n",
    "for i, image_path in tqdm(enumerate(image_paths), total =len(image_paths)):\n",
    "    label = image_path.split(os.path.sep)[-2]\n",
    "    data.loc[i, 'image_path'] = image_path\n",
    "    \n",
    "    labels.append(label)\n",
    "\n",
    "labels = np.array(labels)\n",
    "\n",
    "from sklearn.preprocessing import LabelBinarizer\n",
    "\n",
    "\n",
    "# Mapping the first one hot encoded label to its category\n",
    "lb = LabelBinarizer()\n",
    "labels = lb.fit_transform(labels)\n",
    "\n",
    "for i in range(len(labels)):\n",
    "    index = np.argmax(labels[i])\n",
    "    data.loc[i, 'target'] = int(index)\n",
    "\n",
    "data = data.sample(frac=1).reset_index(drop=True)\n",
    "# data.to_csv('../input/data.csv', index=False)\n",
    "\n",
    "\n",
    "\n",
    "    "
   ]
  },
  {
   "cell_type": "code",
   "execution_count": 7,
   "id": "peaceful-producer",
   "metadata": {},
   "outputs": [
    {
     "data": {
      "text/html": [
       "<div>\n",
       "<style scoped>\n",
       "    .dataframe tbody tr th:only-of-type {\n",
       "        vertical-align: middle;\n",
       "    }\n",
       "\n",
       "    .dataframe tbody tr th {\n",
       "        vertical-align: top;\n",
       "    }\n",
       "\n",
       "    .dataframe thead th {\n",
       "        text-align: right;\n",
       "    }\n",
       "</style>\n",
       "<table border=\"1\" class=\"dataframe\">\n",
       "  <thead>\n",
       "    <tr style=\"text-align: right;\">\n",
       "      <th></th>\n",
       "      <th>image_path</th>\n",
       "      <th>target</th>\n",
       "    </tr>\n",
       "  </thead>\n",
       "  <tbody>\n",
       "    <tr>\n",
       "      <th>0</th>\n",
       "      <td>./Train/del/del177.jpg</td>\n",
       "      <td>26.0</td>\n",
       "    </tr>\n",
       "    <tr>\n",
       "      <th>1</th>\n",
       "      <td>./Train/F/F2709.jpg</td>\n",
       "      <td>5.0</td>\n",
       "    </tr>\n",
       "    <tr>\n",
       "      <th>2</th>\n",
       "      <td>./Train/I/I390.jpg</td>\n",
       "      <td>8.0</td>\n",
       "    </tr>\n",
       "    <tr>\n",
       "      <th>3</th>\n",
       "      <td>./Train/A/A2904.jpg</td>\n",
       "      <td>0.0</td>\n",
       "    </tr>\n",
       "    <tr>\n",
       "      <th>4</th>\n",
       "      <td>./Train/X/X2.jpg</td>\n",
       "      <td>23.0</td>\n",
       "    </tr>\n",
       "  </tbody>\n",
       "</table>\n",
       "</div>"
      ],
      "text/plain": [
       "               image_path  target\n",
       "0  ./Train/del/del177.jpg    26.0\n",
       "1     ./Train/F/F2709.jpg     5.0\n",
       "2      ./Train/I/I390.jpg     8.0\n",
       "3     ./Train/A/A2904.jpg     0.0\n",
       "4        ./Train/X/X2.jpg    23.0"
      ]
     },
     "execution_count": 7,
     "metadata": {},
     "output_type": "execute_result"
    }
   ],
   "source": [
    "data.head()"
   ]
  },
  {
   "cell_type": "code",
   "execution_count": 8,
   "id": "retained-modem",
   "metadata": {},
   "outputs": [
    {
     "data": {
      "text/plain": [
       "29"
      ]
     },
     "execution_count": 8,
     "metadata": {},
     "output_type": "execute_result"
    }
   ],
   "source": [
    "data.target.nunique()"
   ]
  },
  {
   "cell_type": "code",
   "execution_count": 9,
   "id": "ahead-gibraltar",
   "metadata": {},
   "outputs": [],
   "source": [
    "from sklearn.model_selection import train_test_split\n",
    "import matplotlib.pyplot as plt\n",
    "\n",
    "\n",
    "\n",
    "train_set, test_set = train_test_split(data, test_size=0.2,random_state=42)\n",
    "train_set.to_csv('./train_set.csv', index=False)\n",
    "test_set.to_csv('./test_set.csv', index=False)"
   ]
  },
  {
   "cell_type": "code",
   "execution_count": 10,
   "id": "legislative-discount",
   "metadata": {
    "scrolled": true
   },
   "outputs": [
    {
     "data": {
      "text/html": [
       "<div>\n",
       "<style scoped>\n",
       "    .dataframe tbody tr th:only-of-type {\n",
       "        vertical-align: middle;\n",
       "    }\n",
       "\n",
       "    .dataframe tbody tr th {\n",
       "        vertical-align: top;\n",
       "    }\n",
       "\n",
       "    .dataframe thead th {\n",
       "        text-align: right;\n",
       "    }\n",
       "</style>\n",
       "<table border=\"1\" class=\"dataframe\">\n",
       "  <thead>\n",
       "    <tr style=\"text-align: right;\">\n",
       "      <th></th>\n",
       "      <th>Class</th>\n",
       "      <th>Samples</th>\n",
       "    </tr>\n",
       "  </thead>\n",
       "  <tbody>\n",
       "    <tr>\n",
       "      <th>0</th>\n",
       "      <td>19.0</td>\n",
       "      <td>2440</td>\n",
       "    </tr>\n",
       "    <tr>\n",
       "      <th>1</th>\n",
       "      <td>22.0</td>\n",
       "      <td>2439</td>\n",
       "    </tr>\n",
       "    <tr>\n",
       "      <th>2</th>\n",
       "      <td>8.0</td>\n",
       "      <td>2427</td>\n",
       "    </tr>\n",
       "    <tr>\n",
       "      <th>3</th>\n",
       "      <td>16.0</td>\n",
       "      <td>2424</td>\n",
       "    </tr>\n",
       "    <tr>\n",
       "      <th>4</th>\n",
       "      <td>12.0</td>\n",
       "      <td>2424</td>\n",
       "    </tr>\n",
       "  </tbody>\n",
       "</table>\n",
       "</div>"
      ],
      "text/plain": [
       "   Class  Samples\n",
       "0   19.0     2440\n",
       "1   22.0     2439\n",
       "2    8.0     2427\n",
       "3   16.0     2424\n",
       "4   12.0     2424"
      ]
     },
     "execution_count": 10,
     "metadata": {},
     "output_type": "execute_result"
    }
   ],
   "source": [
    "df_train = pd.DataFrame(train_set.target.value_counts()).reset_index()\n",
    "df_train.columns = ['Class', 'Samples']\n",
    "# df_train.Samples = (df_train.Samples - df_train.Samples.min()) / (df_train.Samples.max() - df_train.Samples.min())\n",
    "df_train.head()"
   ]
  },
  {
   "cell_type": "markdown",
   "id": "tender-aaron",
   "metadata": {},
   "source": [
    "### Plot of distribution(train and test)"
   ]
  },
  {
   "cell_type": "code",
   "execution_count": 11,
   "id": "perceived-indianapolis",
   "metadata": {},
   "outputs": [
    {
     "name": "stderr",
     "output_type": "stream",
     "text": [
      "/home/nayugartx8/Desktop/Aayush_work/work/lib/python3.6/site-packages/seaborn/_decorators.py:43: FutureWarning: Pass the following variables as keyword args: x, y. From version 0.12, the only valid positional argument will be `data`, and passing other arguments without an explicit keyword will result in an error or misinterpretation.\n",
      "  FutureWarning\n"
     ]
    },
    {
     "data": {
      "text/plain": [
       "<AxesSubplot:xlabel='Class', ylabel='Samples'>"
      ]
     },
     "execution_count": 11,
     "metadata": {},
     "output_type": "execute_result"
    },
    {
     "data": {
      "image/png": "[encoded data removed]",
      "text/plain": [
       "<Figure size 1080x648 with 1 Axes>"
      ]
     },
     "metadata": {
      "needs_background": "light"
     },
     "output_type": "display_data"
    }
   ],
   "source": [
    "import seaborn as sns\n",
    "\n",
    "plt.figure(figsize=(15, 9))\n",
    "sns.barplot(df_train.Class, df_train.Samples, color='gray')\n",
    "\n"
   ]
  },
  {
   "cell_type": "code",
   "execution_count": 12,
   "id": "advance-country",
   "metadata": {},
   "outputs": [
    {
     "data": {
      "text/html": [
       "<div>\n",
       "<style scoped>\n",
       "    .dataframe tbody tr th:only-of-type {\n",
       "        vertical-align: middle;\n",
       "    }\n",
       "\n",
       "    .dataframe tbody tr th {\n",
       "        vertical-align: top;\n",
       "    }\n",
       "\n",
       "    .dataframe thead th {\n",
       "        text-align: right;\n",
       "    }\n",
       "</style>\n",
       "<table border=\"1\" class=\"dataframe\">\n",
       "  <thead>\n",
       "    <tr style=\"text-align: right;\">\n",
       "      <th></th>\n",
       "      <th>Class</th>\n",
       "      <th>Samples</th>\n",
       "    </tr>\n",
       "  </thead>\n",
       "  <tbody>\n",
       "    <tr>\n",
       "      <th>0</th>\n",
       "      <td>7.0</td>\n",
       "      <td>668</td>\n",
       "    </tr>\n",
       "    <tr>\n",
       "      <th>1</th>\n",
       "      <td>23.0</td>\n",
       "      <td>648</td>\n",
       "    </tr>\n",
       "    <tr>\n",
       "      <th>2</th>\n",
       "      <td>21.0</td>\n",
       "      <td>646</td>\n",
       "    </tr>\n",
       "    <tr>\n",
       "      <th>3</th>\n",
       "      <td>26.0</td>\n",
       "      <td>637</td>\n",
       "    </tr>\n",
       "    <tr>\n",
       "      <th>4</th>\n",
       "      <td>18.0</td>\n",
       "      <td>634</td>\n",
       "    </tr>\n",
       "  </tbody>\n",
       "</table>\n",
       "</div>"
      ],
      "text/plain": [
       "   Class  Samples\n",
       "0    7.0      668\n",
       "1   23.0      648\n",
       "2   21.0      646\n",
       "3   26.0      637\n",
       "4   18.0      634"
      ]
     },
     "execution_count": 12,
     "metadata": {},
     "output_type": "execute_result"
    }
   ],
   "source": [
    "df_test = pd.DataFrame(test_set.target.value_counts()).reset_index()\n",
    "df_test.columns = ['Class', 'Samples']\n",
    "# df_test.Samples = (df_test.Samples - df_test.Samples.min()) / (df_test.Samples.max() - df_test.Samples.min())\n",
    "df_test.head()"
   ]
  },
  {
   "cell_type": "code",
   "execution_count": 13,
   "id": "established-eligibility",
   "metadata": {},
   "outputs": [
    {
     "name": "stderr",
     "output_type": "stream",
     "text": [
      "/home/nayugartx8/Desktop/Aayush_work/work/lib/python3.6/site-packages/seaborn/_decorators.py:43: FutureWarning: Pass the following variables as keyword args: x, y. From version 0.12, the only valid positional argument will be `data`, and passing other arguments without an explicit keyword will result in an error or misinterpretation.\n",
      "  FutureWarning\n"
     ]
    },
    {
     "data": {
      "text/plain": [
       "<AxesSubplot:xlabel='Class', ylabel='Samples'>"
      ]
     },
     "execution_count": 13,
     "metadata": {},
     "output_type": "execute_result"
    },
    {
     "data": {
      "image/png": "[encoded data removed]",
      "text/plain": [
       "<Figure size 1080x648 with 1 Axes>"
      ]
     },
     "metadata": {
      "needs_background": "light"
     },
     "output_type": "display_data"
    }
   ],
   "source": [
    "plt.figure(figsize=(15, 9))\n",
    "sns.barplot(df_test.Class, df_test.Samples, color='gray')"
   ]
  },
  {
   "cell_type": "code",
   "execution_count": 14,
   "id": "outstanding-press",
   "metadata": {},
   "outputs": [],
   "source": [
    "data.to_csv('./data.csv', index=False)"
   ]
  },
  {
   "cell_type": "code",
   "execution_count": 16,
   "id": "hispanic-treasury",
   "metadata": {},
   "outputs": [
    {
     "data": {
      "text/plain": [
       "87000"
      ]
     },
     "execution_count": 16,
     "metadata": {},
     "output_type": "execute_result"
    }
   ],
   "source": [
    "len(data)"
   ]
  },
  {
   "cell_type": "code",
   "execution_count": 17,
   "id": "eligible-sugar",
   "metadata": {},
   "outputs": [],
   "source": [
    "class ASL_dataset(Dataset):\n",
    "    \n",
    "    def __init__(self, csv_path, train=True):\n",
    "\n",
    "        self.csv_file = pd.read_csv(csv_path)\n",
    "        self.train = train\n",
    "        if self.train:\n",
    "            self.transform = transforms.Compose([\n",
    "            transforms.Resize(256),\n",
    "            transforms.RandomCrop(224),\n",
    "            transforms.RandomHorizontalFlip(),\n",
    "            transforms.ToTensor(),\n",
    "            transforms.Normalize(mean=[0.485, 0.456, 0.406],\n",
    "                                std=[0.229, 0.224, 0.225]),\n",
    "            ])\n",
    "        else:\n",
    "            self.transform = transforms.Compose([\n",
    "            transforms.Resize(256),\n",
    "            transforms.ToTensor(),\n",
    "            transforms.Normalize(mean=[0.485, 0.456, 0.406],\n",
    "                                std=[0.229, 0.224, 0.225]),\n",
    "            ])\n",
    "        \n",
    "    def __len__(self):\n",
    "        return len(self.csv_file)\n",
    "    \n",
    "    def __getitem__(self, idx):\n",
    "        if torch.is_tensor(idx):\n",
    "            idx = idx.to_list()\n",
    "        image_name = os.path.join(self.csv_file.iloc[idx, 0])\n",
    "#         print(image_name)\n",
    "        image = Image.open(image_name)\n",
    "        \n",
    "        labels = np.array(self.csv_file.iloc[idx, 1:]).astype(np.float32)\n",
    "#         print(labels)\n",
    "        sample = {'image': image, 'labels': labels }\n",
    "        sample['image'] = self.transform(sample['image'])\n",
    "        sample['labels'] = torch.tensor(int(sample['labels'])).long()\n",
    "        return sample\n",
    "            \n",
    "        "
   ]
  },
  {
   "cell_type": "markdown",
   "id": "emerging-letter",
   "metadata": {},
   "source": [
    "\n",
    "### Plot some random samples"
   ]
  },
  {
   "cell_type": "code",
   "execution_count": 46,
   "id": "suited-genetics",
   "metadata": {},
   "outputs": [
    {
     "name": "stderr",
     "output_type": "stream",
     "text": [
      "Clipping input data to the valid range for imshow with RGB data ([0..1] for floats or [0..255] for integers).\n"
     ]
    },
    {
     "name": "stdout",
     "output_type": "stream",
     "text": [
      "torch.Size([3, 1132, 1810])\n"
     ]
    },
    {
     "data": {
      "image/png": "[encoded data removed]",
      "text/plain": [
       "<Figure size 432x288 with 1 Axes>"
      ]
     },
     "metadata": {
      "needs_background": "light"
     },
     "output_type": "display_data"
    }
   ],
   "source": [
    "asl_dataset = ASL_dataset(csv_path='./test_set.csv')\n",
    "# print(len(asl_dataset))\n",
    "import matplotlib.pyplot as plt\n",
    "x_train = []\n",
    "for i in range(0,400,10):\n",
    "    sample = asl_dataset[i]\n",
    "    x_train.append(sample['image'])\n",
    "\n",
    "# make a grid of 40 images, 8 images per row\n",
    "x_grid=utils.make_grid(x_train[:40], nrow=8, padding=2)\n",
    "print(x_grid.shape)\n",
    "# call helper function\n",
    "show(x_grid)"
   ]
  },
  {
   "cell_type": "markdown",
   "id": "virtual-first",
   "metadata": {},
   "source": [
    "###  Model Creation"
   ]
  },
  {
   "cell_type": "code",
   "execution_count": 19,
   "id": "fancy-usage",
   "metadata": {},
   "outputs": [
    {
     "name": "stdout",
     "output_type": "stream",
     "text": [
      "Using cuda device\n"
     ]
    }
   ],
   "source": [
    "device = 'cuda' if torch.cuda.is_available() else 'cpu'\n",
    "print('Using {} device'.format(device))"
   ]
  },
  {
   "cell_type": "code",
   "execution_count": 20,
   "id": "binary-airline",
   "metadata": {},
   "outputs": [],
   "source": [
    "# Defining model\n",
    "\n",
    "\n",
    "\n",
    "class SignLanguageClassifier(nn.Module):\n",
    "    \n",
    "    def __init__(self):\n",
    "        super(SignLanguageClassifier, self).__init__()\n",
    "        self.conv1 = nn.Conv2d(3, 16, 3)\n",
    "        self.conv2 = nn.Conv2d(16, 32, 5)\n",
    "        self.conv3 = nn.Conv2d(32, 64, 5)\n",
    "        self.conv4 = nn.Conv2d(64, 128, 3)\n",
    "        \n",
    "        self.fc1 = nn.Linear(128, 96)\n",
    "        self.fc2 = nn.Linear(96, 64)\n",
    "        self.fc3 = nn.Linear(64,len(lb.classes_))\n",
    "        \n",
    "        self.drop = nn.Dropout(0.25)\n",
    "        \n",
    "        self.bn1 = nn.BatchNorm2d(16)\n",
    "        self.bn2 = nn.BatchNorm2d(32)\n",
    "        self.bn3 = nn.BatchNorm2d(64)\n",
    "        self.bn4 = nn.BatchNorm2d(128)\n",
    "        \n",
    "        self.pool = nn.MaxPool2d(2,2)\n",
    "        \n",
    "    def forward(self, x):\n",
    "        # conv1\n",
    "        x = self.conv1(x)\n",
    "        x = self.bn1(x)\n",
    "        x = self.pool(nn.functional.relu(x))\n",
    "        \n",
    "    \n",
    "        # conv2\n",
    "        x =self.conv2(x)\n",
    "        x = self.bn2(x)\n",
    "        x = self.pool(nn.functional.relu(x))\n",
    "        #conv3\n",
    "        x = self.bn3(self.conv3(x))\n",
    "        x = self.pool(nn.functional.relu(x))\n",
    "        #conv4 \n",
    "        x = self.bn4(self.conv4(x))\n",
    "        x = self.pool(nn.functional.relu(x))\n",
    "        \n",
    "        #fully connected layers\n",
    "        batch_size, _, _, _ = x.shape\n",
    "        \n",
    "        x = nn.functional.adaptive_avg_pool2d(x, 1).reshape(batch_size, -1)\n",
    "        x = self.drop(nn.functional.relu(self.fc1(x)))\n",
    "        x = nn.functional.relu(self.fc2(x))\n",
    "        x = self.fc3(x)\n",
    "        \n",
    "        return x\n",
    "    "
   ]
  },
  {
   "cell_type": "markdown",
   "id": "revised-insider",
   "metadata": {},
   "source": [
    "### Training Code"
   ]
  },
  {
   "cell_type": "markdown",
   "id": "verbal-number",
   "metadata": {},
   "source": [
    "####  Checkpoint file paths"
   ]
  },
  {
   "cell_type": "code",
   "execution_count": 27,
   "id": "informal-problem",
   "metadata": {},
   "outputs": [],
   "source": [
    "checkpoint_file_path = './checkpoint.ckpt'\n",
    "best_checkpoint = './best_checkpoint.ckpt'"
   ]
  },
  {
   "cell_type": "code",
   "execution_count": 21,
   "id": "aggressive-insight",
   "metadata": {},
   "outputs": [],
   "source": [
    "# setting params\n",
    "epochs = 100\n",
    "\n",
    "# seeds\n",
    "np.random.seed(42)\n",
    "torch.manual_seed(42)\n",
    "torch.cuda.manual_seed(42)\n",
    "torch.cuda.manual_seed_all(42)\n",
    "torch.backends.cudnn.benchmark=True"
   ]
  },
  {
   "cell_type": "code",
   "execution_count": 22,
   "id": "backed-socket",
   "metadata": {},
   "outputs": [],
   "source": [
    "train_data = ASL_dataset('./train_set.csv')\n",
    "test_data = ASL_dataset('./test_set.csv', train=False)"
   ]
  },
  {
   "cell_type": "code",
   "execution_count": 47,
   "id": "african-imperial",
   "metadata": {},
   "outputs": [],
   "source": [
    "train_loader = DataLoader(train_data, batch_size=32, shuffle=True)\n",
    "test_loader = DataLoader(test_data, batch_size=64, shuffle=False)"
   ]
  },
  {
   "cell_type": "code",
   "execution_count": 24,
   "id": "silent-louisiana",
   "metadata": {},
   "outputs": [
    {
     "name": "stdout",
     "output_type": "stream",
     "text": [
      "SignLanguageClassifier(\n",
      "  (conv1): Conv2d(3, 16, kernel_size=(3, 3), stride=(1, 1))\n",
      "  (conv2): Conv2d(16, 32, kernel_size=(5, 5), stride=(1, 1))\n",
      "  (conv3): Conv2d(32, 64, kernel_size=(5, 5), stride=(1, 1))\n",
      "  (conv4): Conv2d(64, 128, kernel_size=(3, 3), stride=(1, 1))\n",
      "  (fc1): Linear(in_features=128, out_features=96, bias=True)\n",
      "  (fc2): Linear(in_features=96, out_features=64, bias=True)\n",
      "  (fc3): Linear(in_features=64, out_features=29, bias=True)\n",
      "  (drop): Dropout(p=0.25, inplace=False)\n",
      "  (bn1): BatchNorm2d(16, eps=1e-05, momentum=0.1, affine=True, track_running_stats=True)\n",
      "  (bn2): BatchNorm2d(32, eps=1e-05, momentum=0.1, affine=True, track_running_stats=True)\n",
      "  (bn3): BatchNorm2d(64, eps=1e-05, momentum=0.1, affine=True, track_running_stats=True)\n",
      "  (bn4): BatchNorm2d(128, eps=1e-05, momentum=0.1, affine=True, track_running_stats=True)\n",
      "  (pool): MaxPool2d(kernel_size=2, stride=2, padding=0, dilation=1, ceil_mode=False)\n",
      ")\n"
     ]
    }
   ],
   "source": [
    "model = SignLanguageClassifier().to(device)\n",
    "print(model)"
   ]
  },
  {
   "cell_type": "code",
   "execution_count": 25,
   "id": "answering-fabric",
   "metadata": {},
   "outputs": [
    {
     "data": {
      "text/plain": [
       "tensor([[-0.0406,  0.0953, -0.0231, -0.0317,  0.1356,  0.0125, -0.0115,  0.0387,\n",
       "         -0.0908, -0.0250, -0.1058,  0.0076,  0.0646,  0.0275, -0.1194, -0.0689,\n",
       "         -0.0256,  0.0603, -0.1315,  0.1387,  0.1026,  0.0028, -0.0894, -0.0668,\n",
       "         -0.0086, -0.1168, -0.0340, -0.1288,  0.1202]], device='cuda:0',\n",
       "       grad_fn=<AddmmBackward>)"
      ]
     },
     "execution_count": 25,
     "metadata": {},
     "output_type": "execute_result"
    }
   ],
   "source": [
    "model.forward(torch.zeros((1, 3, 256, 256)).to(device))"
   ]
  },
  {
   "cell_type": "code",
   "execution_count": 26,
   "id": "everyday-lindsay",
   "metadata": {
    "scrolled": true
   },
   "outputs": [
    {
     "name": "stdout",
     "output_type": "stream",
     "text": [
      "----------------------------------------------------------------\n",
      "        Layer (type)               Output Shape         Param #\n",
      "================================================================\n",
      "            Conv2d-1         [-1, 16, 254, 254]             448\n",
      "       BatchNorm2d-2         [-1, 16, 254, 254]              32\n",
      "         MaxPool2d-3         [-1, 16, 127, 127]               0\n",
      "            Conv2d-4         [-1, 32, 123, 123]          12,832\n",
      "       BatchNorm2d-5         [-1, 32, 123, 123]              64\n",
      "         MaxPool2d-6           [-1, 32, 61, 61]               0\n",
      "            Conv2d-7           [-1, 64, 57, 57]          51,264\n",
      "       BatchNorm2d-8           [-1, 64, 57, 57]             128\n",
      "         MaxPool2d-9           [-1, 64, 28, 28]               0\n",
      "           Conv2d-10          [-1, 128, 26, 26]          73,856\n",
      "      BatchNorm2d-11          [-1, 128, 26, 26]             256\n",
      "        MaxPool2d-12          [-1, 128, 13, 13]               0\n",
      "           Linear-13                   [-1, 96]          12,384\n",
      "          Dropout-14                   [-1, 96]               0\n",
      "           Linear-15                   [-1, 64]           6,208\n",
      "           Linear-16                   [-1, 29]           1,885\n",
      "================================================================\n",
      "Total params: 159,357\n",
      "Trainable params: 159,357\n",
      "Non-trainable params: 0\n",
      "----------------------------------------------------------------\n",
      "Input size (MB): 0.75\n",
      "Forward/backward pass size (MB): 31.06\n",
      "Params size (MB): 0.61\n",
      "Estimated Total Size (MB): 32.42\n",
      "----------------------------------------------------------------\n"
     ]
    }
   ],
   "source": [
    "from torchsummary import summary\n",
    "\n",
    "summary(model, (3, 256, 256))"
   ]
  },
  {
   "cell_type": "code",
   "execution_count": 59,
   "id": "impossible-marsh",
   "metadata": {},
   "outputs": [],
   "source": [
    "# Optimizer \n",
    "optimizer = optim.SGD(model.parameters(), lr=0.001)\n",
    "loss_func = nn.CrossEntropyLoss(reduction='sum')"
   ]
  },
  {
   "cell_type": "code",
   "execution_count": 60,
   "id": "electoral-murder",
   "metadata": {},
   "outputs": [],
   "source": [
    "# define device as a global variable\n",
    "device = torch.device(\"cuda\")\n"
   ]
  },
  {
   "cell_type": "code",
   "execution_count": null,
   "id": "concrete-hamburg",
   "metadata": {},
   "outputs": [],
   "source": []
  },
  {
   "cell_type": "code",
   "execution_count": 50,
   "id": "engaging-intensity",
   "metadata": {},
   "outputs": [],
   "source": [
    "# from torch.utils.tensorboard import SummaryWriter"
   ]
  },
  {
   "cell_type": "code",
   "execution_count": 49,
   "id": "effective-despite",
   "metadata": {},
   "outputs": [],
   "source": [
    "# writer = SummaryWriter()"
   ]
  },
  {
   "cell_type": "code",
   "execution_count": 57,
   "id": "hungarian-population",
   "metadata": {
    "scrolled": true
   },
   "outputs": [
    {
     "name": "stdout",
     "output_type": "stream",
     "text": [
      "epoch 0, lr: 3.0e-03\n",
      "epoch 1, lr: 5.0e-03\n",
      "epoch 2, lr: 3.0e-03\n",
      "epoch 3, lr: 1.0e-03\n",
      "epoch 4, lr: 3.0e-03\n",
      "epoch 5, lr: 5.0e-03\n",
      "epoch 6, lr: 3.0e-03\n",
      "epoch 7, lr: 1.0e-03\n",
      "epoch 8, lr: 3.0e-03\n",
      "epoch 9, lr: 5.0e-03\n"
     ]
    }
   ],
   "source": [
    "# defining lr scheduler \n",
    "\n",
    "from torch.optim.lr_scheduler import CosineAnnealingLR\n",
    "\n",
    "lr_scheduler = CosineAnnealingLR(optimizer,T_max=2,eta_min=0.005)\n",
    "\n",
    "def get_lr(opt):\n",
    "    for param_group in opt.param_groups:\n",
    "        return param_group['lr']\n",
    "\n",
    "for i in range(10):\n",
    "    lr_scheduler.step()\n",
    "    print(\"epoch %s, lr: %.1e\" %(i,get_lr(optimizer)))"
   ]
  },
  {
   "cell_type": "code",
   "execution_count": 152,
   "id": "pediatric-cable",
   "metadata": {},
   "outputs": [],
   "source": [
    "#  count the number of correct predictions per data batch\n",
    "from sklearn.metrics import accuracy_score\n",
    "\n",
    "def metrics_batch(output, target):\n",
    "    pred = output.argmax(dim=1, keepdim=True)\n",
    "    corrects = (pred == target).sum().item()\n",
    "    return corrects"
   ]
  },
  {
   "cell_type": "code",
   "execution_count": 130,
   "id": "alternate-asian",
   "metadata": {},
   "outputs": [],
   "source": [
    "# function to compute the loss value per batch of data:\n",
    "\n",
    "def loss_batch(loss_func, output, target, optimizer=None):\n",
    "    \n",
    "    #get loss\n",
    "    loss = loss_func(output, target)\n",
    "    \n",
    "#     get performance metric\n",
    "    metric_b = metrics_batch(output, target)\n",
    "    \n",
    "    if optimizer is not None:\n",
    "        optimizer.zero_grad()\n",
    "        loss.backward()\n",
    "        optimizer.step()\n",
    "        \n",
    "    return loss.item(), metric_b\n"
   ]
  },
  {
   "cell_type": "code",
   "execution_count": 162,
   "id": "stuffed-macintosh",
   "metadata": {},
   "outputs": [],
   "source": [
    "def loss_epoch(model, loss_func, dataset_dl, sanity_check=False, opt=None):\n",
    "    running_loss = 0\n",
    "    running_metric = 0\n",
    "    len_data = len(dataset_dl.dataset)\n",
    "    \n",
    "    for data in dataset_dl:\n",
    "        # move to gpu\n",
    "        xb = data['image'].to(device)\n",
    "        yb = data['labels'].to(device)\n",
    "        \n",
    "        #get model output\n",
    "        output = model(xb)\n",
    "        \n",
    "        #get loss per batch\n",
    "        loss_b, metric_b = loss_batch(loss_func, output, yb, opt)\n",
    "        \n",
    "        #update running loss and metric\n",
    "        running_loss += loss_b\n",
    "        \n",
    "\n",
    "        if metric_b is not None:\n",
    "            running_metric += metric_b\n",
    "            \n",
    "        #break loop isn case of sanity check\n",
    "        if sanity_check is True:\n",
    "            break\n",
    "    \n",
    "    # avg loss value\n",
    "    loss = running_loss/float(len_data)\n",
    "    \n",
    "    #avg metric value\n",
    "    metric = running_metric/float(len_data)\n",
    "    \n",
    "    return loss, metric\n",
    "    \n",
    "    \n",
    "        \n",
    "        \n",
    "    "
   ]
  },
  {
   "cell_type": "code",
   "execution_count": 163,
   "id": "growing-classification",
   "metadata": {},
   "outputs": [],
   "source": [
    "# defining training loop\n",
    "\n",
    "def train(model, params):\n",
    "    # extract model parameters\n",
    "    num_epochs=params[\"num_epochs\"]\n",
    "    loss_func=params[\"loss_func\"]\n",
    "    opt=params[\"optimizer\"]\n",
    "    train_dl=params[\"train_dl\"]\n",
    "    test_dl=params[\"test_dl\"]\n",
    "    sanity_check=params[\"sanity_check\"]\n",
    "    lr_scheduler=params[\"lr_scheduler\"]\n",
    "    path2weights=params[\"path2weights\"]\n",
    "    \n",
    "     # history of loss values in each epoch\n",
    "    loss_history={\n",
    "        \"train\": [],\n",
    "        \"test\": [],\n",
    "    }\n",
    "    \n",
    "    # histroy of metric values in each epoch\n",
    "    metric_history={\n",
    "        \"train\": [],\n",
    "        \"test\": [],\n",
    "    }\n",
    "    \n",
    "    # a deep copy of weights for the best performing model\n",
    "    best_model_wts = copy.deepcopy(model.state_dict())\n",
    "    \n",
    "    # initialize best loss to a large value\n",
    "    best_loss=float('inf')\n",
    "    \n",
    "    # main loop\n",
    "    for epoch in range(num_epochs):\n",
    "        \n",
    "        # get current learning rate\n",
    "        current_lr=get_lr(opt)\n",
    "        print('Epoch {}/{}, current lr={}'.format(epoch, num_epochs - 1, current_lr))\n",
    "        \n",
    "        # train model on training dataset\n",
    "        model.train()\n",
    "        train_loss, train_metric=loss_epoch(model,loss_func,train_loader,sanity_check,opt)\n",
    "\n",
    "        # collect loss and metric for training dataset\n",
    "        loss_history[\"train\"].append(train_loss)\n",
    "        metric_history[\"train\"].append(train_metric)\n",
    "\n",
    "        # evaluate model on test dataset    \n",
    "        model.eval()\n",
    "        with torch.no_grad():\n",
    "            test_loss, test_metric=loss_epoch(model,loss_func,test_loader,sanity_check)\n",
    "\n",
    "        # store best model\n",
    "\n",
    "        if test_loss < best_loss:\n",
    "            best_loss = test_loss\n",
    "            best_model_wts = copy.deepcopy(model.state_dict())\n",
    "\n",
    "        # store weights into a local file\n",
    "            torch.save(model.state_dict(), path2weights)\n",
    "            print(\"Copied best model weights!\")\n",
    "\n",
    "        # collect loss and metric for validation dataset\n",
    "        loss_history[\"test\"].append(test_loss)\n",
    "        metric_history[\"test\"].append(test_metric)\n",
    "\n",
    "       # learning rate schedule\n",
    "        lr_scheduler.step()\n",
    "\n",
    "\n",
    "        print(\"train loss: %.6f, test loss: %.6f, accuracy: %.2f\" %(train_loss,test_loss,test_metric))\n",
    "        print(\"-\"*10)\n",
    "    \n",
    "    #load best model weights\n",
    "\n",
    "    model.load_state_dict(best_model_wts)\n",
    "\n",
    "    return model, loss_history, metric_history  \n",
    "    "
   ]
  },
  {
   "cell_type": "markdown",
   "id": "digital-surprise",
   "metadata": {},
   "source": [
    "## Train With Random-Init Weights¶"
   ]
  },
  {
   "cell_type": "code",
   "execution_count": 164,
   "id": "warming-frank",
   "metadata": {},
   "outputs": [],
   "source": [
    "loss_func = nn.CrossEntropyLoss()\n",
    "opt = optim.Adam(model.parameters(),lr=0.005)\n",
    "lr_scheduler = CosineAnnealingLR(opt,T_max=5,eta_min=0.005)"
   ]
  },
  {
   "cell_type": "code",
   "execution_count": null,
   "id": "abroad-diabetes",
   "metadata": {
    "scrolled": true
   },
   "outputs": [
    {
     "name": "stdout",
     "output_type": "stream",
     "text": [
      "Epoch 0/9, current lr=0.005\n"
     ]
    }
   ],
   "source": [
    "params_train={\n",
    " \"num_epochs\": 10,\n",
    " \"optimizer\": opt,\n",
    " \"loss_func\": loss_func,\n",
    " \"train_dl\": train_loader,\n",
    " \"test_dl\": test_loader,\n",
    " \"sanity_check\": False,\n",
    " \"lr_scheduler\": lr_scheduler,\n",
    " \"path2weights\": \"signlang.pt\",\n",
    "}\n",
    "\n",
    "model_sign,loss_hist,metric_hist=train(model,params_train)"
   ]
  },
  {
   "cell_type": "code",
   "execution_count": null,
   "id": "prospective-saturday",
   "metadata": {},
   "outputs": [],
   "source": [
    "# Train-Validation Progress\n",
    "num_epochs=params_train[\"num_epochs\"]\n",
    "\n",
    "# plot loss progress\n",
    "plt.title(\"Train-test Loss\")\n",
    "plt.plot(range(1,num_epochs+1),loss_hist[\"train\"],label=\"train\")\n",
    "plt.plot(range(1,num_epochs+1),loss_hist[\"test\"],label=\"test\")\n",
    "plt.ylabel(\"Loss\")\n",
    "plt.xlabel(\"Training Epochs\")\n",
    "plt.legend()\n",
    "plt.show()\n",
    "\n",
    "# plot accuracy progress\n",
    "plt.title(\"Train-test Accuracy\")\n",
    "plt.plot(range(1,num_epochs+1),metric_hist[\"train\"],label=\"train\")\n",
    "plt.plot(range(1,num_epochs+1),metric_hist[\"test\"],label=\"test\")\n",
    "plt.ylabel(\"Accuracy\")\n",
    "plt.xlabel(\"Training Epochs\")\n",
    "plt.legend()\n",
    "plt.show()"
   ]
  },
  {
   "cell_type": "code",
   "execution_count": null,
   "id": "flush-consolidation",
   "metadata": {},
   "outputs": [],
   "source": [
    "torch.save(model, './Sign_Language_Classifier.pth')"
   ]
  }
 ],
 "metadata": {
  "kernelspec": {
   "display_name": "Python 3",
   "language": "python",
   "name": "python3"
  },
  "language_info": {
   "codemirror_mode": {
    "name": "ipython",
    "version": 3
   },
   "file_extension": ".py",
   "mimetype": "text/x-python",
   "name": "python",
   "nbconvert_exporter": "python",
   "pygments_lexer": "ipython3",
   "version": "3.6.9"
  }
 },
 "nbformat": 4,
 "nbformat_minor": 5
}
